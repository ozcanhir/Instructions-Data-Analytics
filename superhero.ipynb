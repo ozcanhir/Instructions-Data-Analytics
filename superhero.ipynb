{
 "cells": [
  {
   "cell_type": "code",
   "execution_count": 6,
   "id": "da3ff9d5-d04a-404f-b38c-768e8457e601",
   "metadata": {
    "execution": {
     "iopub.execute_input": "2023-01-21T17:14:54.815748Z",
     "iopub.status.busy": "2023-01-21T17:14:54.814750Z",
     "iopub.status.idle": "2023-01-21T17:14:54.829863Z",
     "shell.execute_reply": "2023-01-21T17:14:54.828862Z",
     "shell.execute_reply.started": "2023-01-21T17:14:54.815748Z"
    },
    "tags": []
   },
   "outputs": [
    {
     "name": "stdout",
     "output_type": "stream",
     "text": [
      "   1978                          Superman      DC  7.3  95    84     7465343  \\\n",
      "0  1980                       Superman II      DC  6.7  88  77.5  14100523.0   \n",
      "1  1982                       Swamp Thing      DC  5.3  60  56.5         NaN   \n",
      "2  1983                      Superman III      DC  4.9  24  36.5  13352357.0   \n",
      "3  1984                         Supergirl      DC  4.2   8  25.0   5738249.0   \n",
      "4  1986                   Howard the Duck  Marvel  4.3  16  29.5   5070136.0   \n",
      "5  1987  Superman IV: The Quest for Peace      DC  3.6  10  23.0   5683122.0   \n",
      "6  1989                            Batman      DC  7.6  71  73.5  40489746.0   \n",
      "7  1989         The Return of Swamp Thing      DC  3.9  40  39.5         NaN   \n",
      "8  1989                      The Punisher  Marvel  5.4  24  39.0         NaN   \n",
      "9  1992                    Batman Returns      DC  7.0  78  74.0  45687711.0   \n",
      "\n",
      "   2.34   3190317.521  222584545  \n",
      "0  2.69  5.241830e+06  227224681  \n",
      "1  2.94           NaN  231664458  \n",
      "2  3.15  4.238843e+06  233791994  \n",
      "3  3.36  1.707812e+06  235824902  \n",
      "4  3.71  1.366613e+06  240132887  \n",
      "5  3.91  1.453484e+06  242288918  \n",
      "6  3.97  1.019893e+07  246819230  \n",
      "7  3.97           NaN  246819230  \n",
      "8  3.97           NaN  246819230  \n",
      "9  4.15  1.100909e+07  255029699  \n"
     ]
    }
   ],
   "source": [
    "#Import Data  \n",
    "import pandas as pd \n",
    "superhero= pd.read_csv(r\"C:\\Users\\Pc\\Desktop\\Instruction Data Analytic-BI\\superhero-movie-dataset.csv\")\n",
    "print(superhero.head(10))"
   ]
  },
  {
   "cell_type": "code",
   "execution_count": 2,
   "id": "84405f56-9ec2-4367-9f4f-33b2512c48df",
   "metadata": {
    "execution": {
     "iopub.execute_input": "2023-01-21T17:13:56.785096Z",
     "iopub.status.busy": "2023-01-21T17:13:56.784093Z",
     "iopub.status.idle": "2023-01-21T17:13:56.795922Z",
     "shell.execute_reply": "2023-01-21T17:13:56.794924Z",
     "shell.execute_reply.started": "2023-01-21T17:13:56.784093Z"
    },
    "tags": []
   },
   "outputs": [
    {
     "name": "stdout",
     "output_type": "stream",
     "text": [
      "   year                             title   comic  imdb_rating  \\\n",
      "0  1980                       Superman II      DC          6.7   \n",
      "1  1982                       Swamp Thing      DC          5.3   \n",
      "2  1983                      Superman III      DC          4.9   \n",
      "3  1984                         Supergirl      DC          4.2   \n",
      "4  1986                   Howard the Duck  Marvel          4.3   \n",
      "5  1987  Superman IV: The Quest for Peace      DC          3.6   \n",
      "6  1989                            Batman      DC          7.6   \n",
      "7  1989         The Return of Swamp Thing      DC          3.9   \n",
      "8  1989                      The Punisher  Marvel          5.4   \n",
      "9  1992                    Batman Returns      DC          7.0   \n",
      "\n",
      "   rotten_tomatoes_rating  composite_rating  opening_weekend_box_office  \\\n",
      "0                      88              77.5                  14100523.0   \n",
      "1                      60              56.5                         NaN   \n",
      "2                      24              36.5                  13352357.0   \n",
      "3                       8              25.0                   5738249.0   \n",
      "4                      16              29.5                   5070136.0   \n",
      "5                      10              23.0                   5683122.0   \n",
      "6                      71              73.5                  40489746.0   \n",
      "7                      40              39.5                         NaN   \n",
      "8                      24              39.0                         NaN   \n",
      "9                      78              74.0                  45687711.0   \n",
      "\n",
      "   avg_ticket_price_for_year  best_opening_weekend_attendance  \\\n",
      "0                       2.69                     5.241830e+06   \n",
      "1                       2.94                              NaN   \n",
      "2                       3.15                     4.238843e+06   \n",
      "3                       3.36                     1.707812e+06   \n",
      "4                       3.71                     1.366613e+06   \n",
      "5                       3.91                     1.453484e+06   \n",
      "6                       3.97                     1.019893e+07   \n",
      "7                       3.97                              NaN   \n",
      "8                       3.97                              NaN   \n",
      "9                       4.15                     1.100909e+07   \n",
      "\n",
      "   us_pop_year_of_opening  \n",
      "0               227224681  \n",
      "1               231664458  \n",
      "2               233791994  \n",
      "3               235824902  \n",
      "4               240132887  \n",
      "5               242288918  \n",
      "6               246819230  \n",
      "7               246819230  \n",
      "8               246819230  \n",
      "9               255029699  \n"
     ]
    }
   ],
   "source": [
    "# Add column \n",
    "superhero.columns =['year', 'title', 'comic', 'imdb_rating','rotten_tomatoes_rating', 'composite_rating', 'opening_weekend_box_office', 'avg_ticket_price_for_year','best_opening_weekend_attendance', 'us_pop_year_of_opening']\n",
    "print(superhero.head(10))\n"
   ]
  },
  {
   "cell_type": "code",
   "execution_count": 7,
   "id": "9fcda107-4104-44e2-a6e1-e61205e900e9",
   "metadata": {
    "execution": {
     "iopub.execute_input": "2023-01-22T21:43:22.065995Z",
     "iopub.status.busy": "2023-01-22T21:43:22.064996Z",
     "iopub.status.idle": "2023-01-22T21:43:22.138858Z",
     "shell.execute_reply": "2023-01-22T21:43:22.137860Z",
     "shell.execute_reply.started": "2023-01-22T21:43:22.065995Z"
    },
    "tags": []
   },
   "outputs": [
    {
     "name": "stdout",
     "output_type": "stream",
     "text": [
      "<class 'pandas.core.frame.DataFrame'>\n",
      "RangeIndex: 48 entries, 0 to 47\n",
      "Data columns (total 10 columns):\n",
      " #   Column       Non-Null Count  Dtype  \n",
      "---  ------       --------------  -----  \n",
      " 0   1978         48 non-null     int64  \n",
      " 1   Superman     48 non-null     object \n",
      " 2   DC           48 non-null     object \n",
      " 3   7.3          48 non-null     float64\n",
      " 4   95           48 non-null     int64  \n",
      " 5   84           48 non-null     float64\n",
      " 6   7465343      45 non-null     float64\n",
      " 7   2.34         48 non-null     float64\n",
      " 8   3190317.521  45 non-null     float64\n",
      " 9   222584545    48 non-null     int64  \n",
      "dtypes: float64(5), int64(3), object(2)\n",
      "memory usage: 3.9+ KB\n"
     ]
    }
   ],
   "source": [
    "# Data Info\n",
    "superhero.info()"
   ]
  },
  {
   "cell_type": "code",
   "execution_count": 4,
   "id": "32d981d7-9b43-4e26-aa0e-ee3cc7ed39c6",
   "metadata": {
    "execution": {
     "iopub.execute_input": "2023-01-21T17:13:56.819917Z",
     "iopub.status.busy": "2023-01-21T17:13:56.819917Z",
     "iopub.status.idle": "2023-01-21T17:13:56.828682Z",
     "shell.execute_reply": "2023-01-21T17:13:56.826684Z",
     "shell.execute_reply.started": "2023-01-21T17:13:56.819917Z"
    }
   },
   "outputs": [
    {
     "name": "stdout",
     "output_type": "stream",
     "text": [
      "year                               0\n",
      "title                              0\n",
      "comic                              0\n",
      "imdb_rating                        0\n",
      "rotten_tomatoes_rating             0\n",
      "composite_rating                   0\n",
      "opening_weekend_box_office         3\n",
      "avg_ticket_price_for_year          0\n",
      "best_opening_weekend_attendance    3\n",
      "us_pop_year_of_opening             0\n",
      "dtype: int64\n"
     ]
    }
   ],
   "source": [
    "# Count number of NaN\n",
    "print(superhero.isna().sum()) "
   ]
  },
  {
   "cell_type": "code",
   "execution_count": 5,
   "id": "2cfe99cc-9f7c-4b48-b0e9-35f439268d63",
   "metadata": {
    "execution": {
     "iopub.execute_input": "2023-01-21T17:13:56.832680Z",
     "iopub.status.busy": "2023-01-21T17:13:56.831689Z",
     "iopub.status.idle": "2023-01-21T17:13:56.851730Z",
     "shell.execute_reply": "2023-01-21T17:13:56.850738Z",
     "shell.execute_reply.started": "2023-01-21T17:13:56.832680Z"
    }
   },
   "outputs": [
    {
     "name": "stdout",
     "output_type": "stream",
     "text": [
      "<class 'pandas.core.frame.DataFrame'>\n",
      "Int64Index: 45 entries, 0 to 47\n",
      "Data columns (total 10 columns):\n",
      " #   Column                           Non-Null Count  Dtype  \n",
      "---  ------                           --------------  -----  \n",
      " 0   year                             45 non-null     int64  \n",
      " 1   title                            45 non-null     object \n",
      " 2   comic                            45 non-null     object \n",
      " 3   imdb_rating                      45 non-null     float64\n",
      " 4   rotten_tomatoes_rating           45 non-null     int64  \n",
      " 5   composite_rating                 45 non-null     float64\n",
      " 6   opening_weekend_box_office       45 non-null     float64\n",
      " 7   avg_ticket_price_for_year        45 non-null     float64\n",
      " 8   best_opening_weekend_attendance  45 non-null     float64\n",
      " 9   us_pop_year_of_opening           45 non-null     int64  \n",
      "dtypes: float64(5), int64(3), object(2)\n",
      "memory usage: 3.9+ KB\n"
     ]
    }
   ],
   "source": [
    "# Drop NaN\n",
    "superheroV1 = superhero.dropna()\n",
    "superheroV1.info()"
   ]
  },
  {
   "cell_type": "code",
   "execution_count": 70,
   "id": "dd268a2d-5ae2-4fe3-8b59-3f6ab44be56c",
   "metadata": {
    "execution": {
     "iopub.execute_input": "2023-01-23T00:16:44.133101Z",
     "iopub.status.busy": "2023-01-23T00:16:44.133101Z",
     "iopub.status.idle": "2023-01-23T00:16:44.377092Z",
     "shell.execute_reply": "2023-01-23T00:16:44.376074Z",
     "shell.execute_reply.started": "2023-01-23T00:16:44.133101Z"
    },
    "tags": []
   },
   "outputs": [
    {
     "data": {
      "image/png": "[encoded data removed]",
      "text/plain": [
       "<Figure size 640x480 with 2 Axes>"
      ]
     },
     "metadata": {},
     "output_type": "display_data"
    }
   ],
   "source": [
    "\n",
    "\n",
    "# Define a function called plot_timeseries\n",
    "def plot_timeseries(axes, x, y, color, xlabel, ylabel):\n",
    "\n",
    "  # Plot the inputs x,y in the provided color\n",
    "  axes.plot(x, y, color=color,)\n",
    "\n",
    "\n",
    "  # Set the x-axis label\n",
    "  axes.set_xlabel(xlabel)\n",
    "\n",
    "  # Set the y-axis label\n",
    "  axes.set_ylabel(ylabel, color=color)\n",
    "\n",
    "\n",
    "fig, ax = plt.subplots()\n",
    "\n",
    "# Plot the  avg ticket price for yearlevels time-series in blue\n",
    "plot_timeseries(ax, superheroV2.index, superheroV2[\"avg_ticket_price_for_year\"], 'blue', \"Time (years)\", \"Avg Ticket Price($)\")\n",
    "\n",
    "# Create a twin Axes object that shares the x-axis\n",
    "ax2 = ax.twinx()\n",
    "\n",
    "# Plot the imdb_rating data in red\n",
    "plot_timeseries(ax2, superheroV2.index, superheroV2['imdb_rating'], 'red', \"Time (years)\", \"IMDb Rating\")\n",
    "\n",
    "plt.show()\n",
    "fig.savefig('figure_1.png')"
   ]
  },
  {
   "cell_type": "code",
   "execution_count": 81,
   "id": "b6f0cebd-8650-42a4-95f2-6cf55b180f37",
   "metadata": {
    "execution": {
     "iopub.execute_input": "2023-01-23T00:38:06.567047Z",
     "iopub.status.busy": "2023-01-23T00:38:06.565049Z",
     "iopub.status.idle": "2023-01-23T00:38:06.575953Z",
     "shell.execute_reply": "2023-01-23T00:38:06.574941Z",
     "shell.execute_reply.started": "2023-01-23T00:38:06.567047Z"
    },
    "tags": []
   },
   "outputs": [
    {
     "data": {
      "text/plain": [
       "year                                      2012\n",
       "title                                       X2\n",
       "comic                                   Marvel\n",
       "imdb_rating                                9.1\n",
       "rotten_tomatoes_rating                      94\n",
       "composite_rating                          91.5\n",
       "opening_weekend_box_office         207438708.0\n",
       "avg_ticket_price_for_year                 7.93\n",
       "best_opening_weekend_attendance    26191756.06\n",
       "us_pop_year_of_opening               314055984\n",
       "dtype: object"
      ]
     },
     "execution_count": 81,
     "metadata": {},
     "output_type": "execute_result"
    }
   ],
   "source": [
    "# Use max function to look maximum value of all columns\n",
    "superheroV1.max()"
   ]
  },
  {
   "cell_type": "code",
   "execution_count": 91,
   "id": "ca2f69da-9ffa-443e-baa1-cd99c89ded89",
   "metadata": {
    "execution": {
     "iopub.execute_input": "2023-01-23T00:59:30.598637Z",
     "iopub.status.busy": "2023-01-23T00:59:30.597636Z",
     "iopub.status.idle": "2023-01-23T00:59:30.614494Z",
     "shell.execute_reply": "2023-01-23T00:59:30.613482Z",
     "shell.execute_reply.started": "2023-01-23T00:59:30.598637Z"
    },
    "tags": []
   },
   "outputs": [
    {
     "name": "stdout",
     "output_type": "stream",
     "text": [
      "    year                  title   comic  imdb_rating  rotten_tomatoes_rating  \\\n",
      "45  2012  The Dark Knight Rises      DC          9.1                      86   \n",
      "32  2008        The Dark Knight      DC          8.9                      94   \n",
      "44  2012  Marvel's The Avengers  Marvel          8.7                      92   \n",
      "24  2005          Batman Begins      DC          8.3                      85   \n",
      "34  2008               Iron Man  Marvel          7.9                      94   \n",
      "\n",
      "    composite_rating  opening_weekend_box_office  avg_ticket_price_for_year  \\\n",
      "45              88.5                 160887295.0                       7.92   \n",
      "32              91.5                 158411483.0                       7.18   \n",
      "44              89.5                 207438708.0                       7.92   \n",
      "24              84.0                  48745440.0                       6.41   \n",
      "34              86.5                  98618668.0                       7.18   \n",
      "\n",
      "    best_opening_weekend_attendance  us_pop_year_of_opening  \n",
      "45                     2.031405e+07               314055984  \n",
      "32                     2.206288e+07               304374846  \n",
      "44                     2.619176e+07               314055984  \n",
      "24                     7.604593e+06               295753151  \n",
      "34                     1.373519e+07               304374846  \n",
      "    year                             title comic  imdb_rating  \\\n",
      "12  1997                             Steel    DC          2.7   \n",
      "21  2004                          Catwoman    DC          3.2   \n",
      "5   1987  Superman IV: The Quest for Peace    DC          3.6   \n",
      "11  1997                    Batman & Robin    DC          3.6   \n",
      "3   1984                         Supergirl    DC          4.2   \n",
      "\n",
      "    rotten_tomatoes_rating  composite_rating  opening_weekend_box_office  \\\n",
      "12                      12              19.5                    870068.0   \n",
      "21                      10              21.0                  16728411.0   \n",
      "5                       10              23.0                   5683122.0   \n",
      "11                      12              24.0                  42872605.0   \n",
      "3                        8              25.0                   5738249.0   \n",
      "\n",
      "    avg_ticket_price_for_year  best_opening_weekend_attendance  \\\n",
      "12                       4.59                     1.895573e+05   \n",
      "21                       6.21                     2.693786e+06   \n",
      "5                        3.91                     1.453484e+06   \n",
      "11                       4.59                     9.340437e+06   \n",
      "3                        3.36                     1.707812e+06   \n",
      "\n",
      "    us_pop_year_of_opening  \n",
      "12               267783607  \n",
      "21               293045739  \n",
      "5                242288918  \n",
      "11               267783607  \n",
      "3                235824902  \n"
     ]
    }
   ],
   "source": [
    "# 5 Biggest and  smallest IMDb rating \n",
    "Big5= superheroV1.sort_values('imdb_rating', ascending= False)\n",
    "Small5=superheroV1.sort_values('imdb_rating', ascending= True) \n",
    "print(Big5.head(5))\n",
    "print(Small5.head(5))"
   ]
  },
  {
   "cell_type": "code",
   "execution_count": 94,
   "id": "a899f617-ebb3-42fa-8403-db2686392f6b",
   "metadata": {
    "execution": {
     "iopub.execute_input": "2023-01-23T01:03:55.275918Z",
     "iopub.status.busy": "2023-01-23T01:03:55.275918Z",
     "iopub.status.idle": "2023-01-23T01:03:55.290428Z",
     "shell.execute_reply": "2023-01-23T01:03:55.289419Z",
     "shell.execute_reply.started": "2023-01-23T01:03:55.275918Z"
    },
    "tags": []
   },
   "outputs": [
    {
     "name": "stdout",
     "output_type": "stream",
     "text": [
      "    year                  title   comic  imdb_rating  rotten_tomatoes_rating  \\\n",
      "34  2008               Iron Man  Marvel          7.9                      94   \n",
      "32  2008        The Dark Knight      DC          8.9                      94   \n",
      "22  2004           Spider-Man 2  Marvel          7.5                      93   \n",
      "44  2012  Marvel's The Avengers  Marvel          8.7                      92   \n",
      "16  2002             Spider-Man  Marvel          7.4                      89   \n",
      "\n",
      "    composite_rating  opening_weekend_box_office  avg_ticket_price_for_year  \\\n",
      "34              86.5                  98618668.0                       7.18   \n",
      "32              91.5                 158411483.0                       7.18   \n",
      "22              84.0                  88156227.0                       6.21   \n",
      "44              89.5                 207438708.0                       7.92   \n",
      "16              81.5                 114844116.0                       5.81   \n",
      "\n",
      "    best_opening_weekend_attendance  us_pop_year_of_opening  \n",
      "34                      13735190.53               304374846  \n",
      "32                      22062880.64               304374846  \n",
      "22                      14195849.76               293045739  \n",
      "44                      26191756.06               314055984  \n",
      "16                      19766629.26               287803914  \n",
      "    year                             title   comic  imdb_rating  \\\n",
      "3   1984                         Supergirl      DC          4.2   \n",
      "25  2005                           Elektra  Marvel          4.8   \n",
      "5   1987  Superman IV: The Quest for Peace      DC          3.6   \n",
      "21  2004                          Catwoman      DC          3.2   \n",
      "11  1997                    Batman & Robin      DC          3.6   \n",
      "\n",
      "    rotten_tomatoes_rating  composite_rating  opening_weekend_box_office  \\\n",
      "3                        8              25.0                   5738249.0   \n",
      "25                      10              29.0                  12804793.0   \n",
      "5                       10              23.0                   5683122.0   \n",
      "21                      10              21.0                  16728411.0   \n",
      "11                      12              24.0                  42872605.0   \n",
      "\n",
      "    avg_ticket_price_for_year  best_opening_weekend_attendance  \\\n",
      "3                        3.36                      1707812.202   \n",
      "25                       6.41                      1997627.613   \n",
      "5                        3.91                      1453483.887   \n",
      "21                       6.21                      2693785.990   \n",
      "11                       4.59                      9340436.819   \n",
      "\n",
      "    us_pop_year_of_opening  \n",
      "3                235824902  \n",
      "25               295753151  \n",
      "5                242288918  \n",
      "21               293045739  \n",
      "11               267783607  \n"
     ]
    }
   ],
   "source": [
    "# 5 Biggest and  rotten tomatoes rating IMDb rating \n",
    "Big5Tomat= superheroV1.sort_values('rotten_tomatoes_rating', ascending= False)\n",
    "Small5Tomat=superheroV1.sort_values('rotten_tomatoes_rating', ascending= True) \n",
    "print(Big5Tomat.head(5))\n",
    "print(Small5Tomat.head(5))"
   ]
  },
  {
   "cell_type": "code",
   "execution_count": 87,
   "id": "92102316-aca3-4e9e-aec1-e8cae2b17c53",
   "metadata": {
    "execution": {
     "iopub.execute_input": "2023-01-23T00:53:42.046468Z",
     "iopub.status.busy": "2023-01-23T00:53:42.046468Z",
     "iopub.status.idle": "2023-01-23T00:53:42.056447Z",
     "shell.execute_reply": "2023-01-23T00:53:42.055429Z",
     "shell.execute_reply.started": "2023-01-23T00:53:42.046468Z"
    }
   },
   "outputs": [
    {
     "data": {
      "text/plain": [
       "Marvel    28\n",
       "DC        17\n",
       "Name: comic, dtype: int64"
      ]
     },
     "execution_count": 87,
     "metadata": {},
     "output_type": "execute_result"
    }
   ],
   "source": [
    "#CountNumber of DC and Marvel \n",
    "superheroV1['comic'].value_counts()"
   ]
  },
  {
   "cell_type": "code",
   "execution_count": null,
   "id": "d4f18ff3-7e19-4fd5-98e1-b232d814c007",
   "metadata": {},
   "outputs": [],
   "source": []
  }
 ],
 "metadata": {
  "kernelspec": {
   "display_name": "Python 3 (ipykernel)",
   "language": "python",
   "name": "python3"
  },
  "language_info": {
   "codemirror_mode": {
    "name": "ipython",
    "version": 3
   },
   "file_extension": ".py",
   "mimetype": "text/x-python",
   "name": "python",
   "nbconvert_exporter": "python",
   "pygments_lexer": "ipython3",
   "version": "3.11.1"
  }
 },
 "nbformat": 4,
 "nbformat_minor": 5
}
